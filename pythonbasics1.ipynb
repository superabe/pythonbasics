{
 "cells": [
  {
   "cell_type": "markdown",
   "metadata": {},
   "source": [
    "---\n",
    "Installation\n",
    "---\n",
    "[Download](https://www.python.org/downloads)\n",
    "### Windows\n",
    "![figure1](images/download1.png)\n",
    "![figure2](images/download2.png)\n",
    "### Other\n",
    "Mac or Linux"
   ]
  },
  {
   "cell_type": "markdown",
   "metadata": {},
   "source": [
    "## Python from commandline\n",
    "![commandline](images/commandline.png)"
   ]
  },
  {
   "cell_type": "markdown",
   "metadata": {},
   "source": [
    "---\n",
    "Basic operations\n",
    "---"
   ]
  },
  {
   "cell_type": "code",
   "execution_count": null,
   "metadata": {
    "collapsed": false
   },
   "outputs": [],
   "source": [
    "# print output\n",
    "print('Hello world!')"
   ]
  },
  {
   "cell_type": "code",
   "execution_count": null,
   "metadata": {
    "collapsed": false
   },
   "outputs": [],
   "source": [
    "# assignment & math operations & variables\n",
    "# addition\n",
    "a = 1 + 1\n",
    "\n",
    "# multiplication\n",
    "b = 3*6\n",
    "\n",
    "# division\n",
    "c = 7/2\n",
    "\n",
    "# exponent\n",
    "d = 3**3\n",
    "\n",
    "# remainder\n",
    "e = 13%2\n",
    "\n",
    "print('a:', a)\n",
    "print('b:', b)\n",
    "print('c:', c)\n",
    "print('d:', d)\n",
    "print('e:', e)"
   ]
  },
  {
   "cell_type": "markdown",
   "metadata": {},
   "source": [
    "---\n",
    "String\n",
    "---"
   ]
  },
  {
   "cell_type": "code",
   "execution_count": null,
   "metadata": {
    "collapsed": false
   },
   "outputs": [],
   "source": [
    "# single & double quotes\n",
    "string1 = 'single quote'\n",
    "string2 = \"double quotes\"\n",
    "string3 = 'single quote \"double quotes\"'\n",
    "string4 = \"Double quote 'single quote'\"\n",
    "print('string1:', string1)\n",
    "print('string2:', string2)\n",
    "print('string3:', string3)\n",
    "print('string4:', string4)\n",
    "\n",
    "# add string\n",
    "string5 = string1 + ' plus ' + string2\n",
    "print('string5:', string5)\n",
    "\n",
    "# string index\n",
    "print('The first character of string1 is:', string1[0])\n",
    "print('The last character of string1 is:', string1[-1])\n",
    "\n",
    "# string split\n",
    "print(string5.split(sep=' '))\n",
    "\n",
    "# search\n",
    "print(string5.find('p'))"
   ]
  },
  {
   "cell_type": "markdown",
   "metadata": {},
   "source": [
    "---\n",
    "Loops, Conditions\n",
    "---"
   ]
  },
  {
   "cell_type": "markdown",
   "metadata": {},
   "source": [
    "#### The `while` loop"
   ]
  },
  {
   "cell_type": "code",
   "execution_count": null,
   "metadata": {
    "collapsed": false
   },
   "outputs": [],
   "source": [
    "a = 0\n",
    "while a < 10:\n",
    "    a += 1\n",
    "    print(a)"
   ]
  },
  {
   "cell_type": "markdown",
   "metadata": {},
   "source": [
    "#### The `for` loop"
   ]
  },
  {
   "cell_type": "code",
   "execution_count": null,
   "metadata": {
    "collapsed": false
   },
   "outputs": [],
   "source": [
    "for i in range(10):\n",
    "    print(i)"
   ]
  },
  {
   "cell_type": "code",
   "execution_count": null,
   "metadata": {
    "collapsed": false
   },
   "outputs": [],
   "source": [
    "for c in 'abcde':\n",
    "    print(c)"
   ]
  },
  {
   "cell_type": "code",
   "execution_count": null,
   "metadata": {
    "collapsed": false
   },
   "outputs": [],
   "source": [
    "for x in [1,6,7,9]:\n",
    "    print(x**2)"
   ]
  },
  {
   "cell_type": "markdown",
   "metadata": {},
   "source": [
    "#### `if else` statement"
   ]
  },
  {
   "cell_type": "code",
   "execution_count": null,
   "metadata": {
    "collapsed": true
   },
   "outputs": [],
   "source": [
    "n = 1\n",
    "while n <= 20:\n",
    "    n += 1\n",
    "    if n%2 == 0:\n",
    "        print(n, 'can be divided by 2.')\n",
    "    elif n%3 ==0:\n",
    "        print(n, 'can be divided by 3.')\n",
    "    else:\n",
    "        print(n)"
   ]
  },
  {
   "cell_type": "markdown",
   "metadata": {},
   "source": [
    "#### Caution: Indentation\n",
    "Each line in the first level starts with no spaces. It is the main program, and will always execute. Each line in the second level starts with **four spaces**."
   ]
  },
  {
   "cell_type": "markdown",
   "metadata": {},
   "source": [
    "---\n",
    "Functions\n",
    "---"
   ]
  },
  {
   "cell_type": "code",
   "execution_count": null,
   "metadata": {
    "collapsed": false
   },
   "outputs": [],
   "source": [
    "pi = 3.14\n",
    "\n",
    "# define a function caculation the area of a circle with radius of r.\n",
    "def area_of_circle(r):\n",
    "    area = pi*r**2\n",
    "    return area\n",
    "\n",
    "print(area_of_circle(3))"
   ]
  },
  {
   "cell_type": "code",
   "execution_count": null,
   "metadata": {
    "collapsed": false
   },
   "outputs": [],
   "source": [
    "# Function with default parameters\n",
    "def printInfo(name, age=30):\n",
    "    print('Name:',name)\n",
    "    print('Age:',age)\n",
    "    \n",
    "printInfo('Andy')\n",
    "print('--------------')\n",
    "printInfo('Roger', 50)"
   ]
  },
  {
   "cell_type": "code",
   "execution_count": null,
   "metadata": {
    "collapsed": false
   },
   "outputs": [],
   "source": [
    "# A special function\n",
    "# lambda arg: expressions\n",
    "square1 = lambda x:x**2\n",
    "\n",
    "def square2(x):\n",
    "    return x**2\n",
    "\n",
    "print(square1(3))\n",
    "print(square2(3))"
   ]
  },
  {
   "cell_type": "markdown",
   "metadata": {},
   "source": [
    "---\n",
    "Data Structures\n",
    "---"
   ]
  },
  {
   "cell_type": "markdown",
   "metadata": {},
   "source": [
    "#### List"
   ]
  },
  {
   "cell_type": "code",
   "execution_count": null,
   "metadata": {
    "collapsed": false
   },
   "outputs": [],
   "source": [
    "# Create an list\n",
    "l1 = []\n",
    "l2 = [1, 2, 3]\n",
    "l3 = ['one', 'two', 'three', 4]\n",
    "l4 = [l2, l3]\n",
    "l5 = l2 + l3\n",
    "l6 = l2*2\n",
    "print('l1:', l1)\n",
    "print('l2:', l2)\n",
    "print('l3:', l3)\n",
    "print('l4:', l4)\n",
    "print('l5:', l5)\n",
    "print('l6:', l6)"
   ]
  },
  {
   "cell_type": "code",
   "execution_count": null,
   "metadata": {
    "collapsed": false
   },
   "outputs": [],
   "source": [
    "# List indexing\n",
    "print('The first element of l2:', l2[0])\n",
    "print('The first two elements of l3:', l3[0:2])"
   ]
  },
  {
   "cell_type": "code",
   "execution_count": null,
   "metadata": {
    "collapsed": false
   },
   "outputs": [],
   "source": [
    "# Useful built-in functions\n",
    "print(len(l6))\n",
    "print('-------------')\n",
    "\n",
    "\n",
    "l5.append(7)\n",
    "print('l5:',l5)\n",
    "print('-------------')\n",
    "\n",
    "unordered = [1,7,8,3,2,6]\n",
    "unordered.sort()\n",
    "print(unordered)\n",
    "print('-------------')\n",
    "\n",
    "l5.pop()\n",
    "print('l5:', l5)\n"
   ]
  },
  {
   "cell_type": "code",
   "execution_count": null,
   "metadata": {
    "collapsed": false
   },
   "outputs": [],
   "source": [
    "# List comprehension\n",
    "vec = [2, 4, 6]\n",
    "comp1 = [x**2 for x in vec]\n",
    "comp2 = [x**2 for x in vec if x>2]\n",
    "\n",
    "print('comp1:', comp1)\n",
    "print('comp2:', comp2)"
   ]
  },
  {
   "cell_type": "markdown",
   "metadata": {},
   "source": [
    "#### Tuple"
   ]
  },
  {
   "cell_type": "code",
   "execution_count": null,
   "metadata": {
    "collapsed": true
   },
   "outputs": [],
   "source": [
    "def printLine():\n",
    "    print('--------------------------------------------')\n",
    "    print('')"
   ]
  },
  {
   "cell_type": "code",
   "execution_count": null,
   "metadata": {
    "collapsed": false
   },
   "outputs": [],
   "source": [
    "t0 = (1,2,3)\n",
    "print('t0:', t0)\n",
    "printLine()\n",
    "\n",
    "t = 12345, 54321, 'hello!'\n",
    "print('t:', t)\n",
    "print('The first element of t:', t[0])\n",
    "printLine()\n",
    "\n",
    "u = t,2,1,3\n",
    "print('u:', u)\n",
    "\n",
    "# One important feature is that **Tuple** is **immutable**.\n",
    "# That means the elements of tuple **cannot** be modified.\n",
    "# t[0] = 3"
   ]
  },
  {
   "cell_type": "markdown",
   "metadata": {},
   "source": [
    "#### What's the difference between *list* and *tuple*?\n",
    "Lists are intended to be **homogeneous sequences**, while tuples are **hetereogeneous data structures**."
   ]
  },
  {
   "cell_type": "markdown",
   "metadata": {},
   "source": [
    "#### Dictionaries"
   ]
  },
  {
   "cell_type": "code",
   "execution_count": null,
   "metadata": {
    "collapsed": false
   },
   "outputs": [],
   "source": [
    "tel = {'jack': 4098, 'sape': 4139}\n",
    "print(tel['jack'])\n",
    "printLine()\n",
    "\n",
    "print('Keys of tel dict are:', tel.keys())\n",
    "print('Values of tel dict are:', tel.values())\n",
    "printLine()\n",
    "\n",
    "# looping through dicts\n",
    "for k,v in tel.items():\n",
    "    print(k, v)"
   ]
  },
  {
   "cell_type": "markdown",
   "metadata": {},
   "source": [
    "---\n",
    "Class\n",
    "---\n"
   ]
  },
  {
   "cell_type": "code",
   "execution_count": 93,
   "metadata": {
    "collapsed": false
   },
   "outputs": [
    {
     "name": "stdout",
     "output_type": "stream",
     "text": [
      "The area of rect1 is: 8000\n",
      "--------------------------------------------\n",
      "\n",
      "This shape has not been described yet\n",
      "This is a Rectangle\n",
      "--------------------------------------------\n",
      "\n"
     ]
    }
   ],
   "source": [
    "# Object Oriented Programming\n",
    "# Instantiation, Inheritance, Polymorphyism\n",
    "\n",
    "#An example of a class\n",
    "class Rectangle:\n",
    "    \n",
    "    def __init__(self, x, y):\n",
    "        self.x = x\n",
    "        self.y = y\n",
    "        self.description = \"This shape has not been described yet\"\n",
    "    \n",
    "    def setDescription(self, text):\n",
    "        self.description = text\n",
    "    \n",
    "    def getDescription(self):\n",
    "        return self.description\n",
    "    \n",
    "    def area(self):\n",
    "        return self.x * self.y\n",
    "\n",
    "rect1 = Rectangle(100,80)\n",
    "\n",
    "# calculate area\n",
    "area_of_rect1 = rect1.area()\n",
    "print('The area of rect1 is:', area_of_rect1)\n",
    "printLine()\n",
    "\n",
    "# set description\n",
    "print(rect1.getDescription())\n",
    "rect1.setDescription('This is a Rectangle')\n",
    "print(rect1.getDescription())\n",
    "printLine()\n"
   ]
  },
  {
   "cell_type": "markdown",
   "metadata": {},
   "source": [
    "#### Inheritance"
   ]
  },
  {
   "cell_type": "code",
   "execution_count": 95,
   "metadata": {
    "collapsed": false
   },
   "outputs": [
    {
     "name": "stdout",
     "output_type": "stream",
     "text": [
      "The area of the square is: 100\n",
      "--------------------------------------------\n",
      "\n"
     ]
    }
   ],
   "source": [
    "class Square(Rectangle):\n",
    "    def __init__(self, x):\n",
    "        self.x = x\n",
    "        self.y = x\n",
    "\n",
    "square = Square(10)\n",
    "print('The area of the square is:', square.area())\n",
    "printLine()"
   ]
  },
  {
   "cell_type": "markdown",
   "metadata": {},
   "source": [
    "---\n",
    "Package Management\n",
    "---"
   ]
  },
  {
   "cell_type": "markdown",
   "metadata": {},
   "source": [
    "---\n",
    "IDE Examples\n",
    "---\n",
    "[Pycharm](https://www.jetbrains.com/pycharm/)\n",
    "\n",
    "[Sublime Text](https://www.sublimetext.com/)\n",
    "\n",
    "[Eclipse + PyDev](http://www.eclipse.org/)\n",
    "\n"
   ]
  },
  {
   "cell_type": "markdown",
   "metadata": {},
   "source": [
    "---\n",
    "A few useful sources.\n",
    "---\n",
    "[Python Tutorial](https://docs.python.org/3.5/tutorial/index.html)\n",
    "\n",
    "[The Hitchhiker’s Guide to Python](http://docs.python-guide.org/en/latest/)\n",
    "\n",
    "[Google](https://www.google.com)"
   ]
  }
 ],
 "metadata": {
  "kernelspec": {
   "display_name": "Python 3",
   "language": "python",
   "name": "python3"
  },
  "language_info": {
   "codemirror_mode": {
    "name": "ipython",
    "version": 3
   },
   "file_extension": ".py",
   "mimetype": "text/x-python",
   "name": "python",
   "nbconvert_exporter": "python",
   "pygments_lexer": "ipython3",
   "version": "3.5.1"
  }
 },
 "nbformat": 4,
 "nbformat_minor": 0
}
