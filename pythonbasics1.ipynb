{
 "cells": [
  {
   "cell_type": "markdown",
   "metadata": {},
   "source": [
    "---\n",
    "Installation\n",
    "---\n",
    "[Download](https://www.python.org/downloads)\n",
    "### Windows\n",
    "![figure1](images/download1.png)\n",
    "![figure2](images/download2.png)\n",
    "### Other\n",
    "Mac or Linux"
   ]
  },
  {
   "cell_type": "markdown",
   "metadata": {},
   "source": [
    "## Python from commandline\n",
    "![commandline](images/commandline.png)"
   ]
  },
  {
   "cell_type": "markdown",
   "metadata": {},
   "source": [
    "---\n",
    "Basic operations\n",
    "---"
   ]
  },
  {
   "cell_type": "code",
   "execution_count": null,
   "metadata": {
    "collapsed": false
   },
   "outputs": [],
   "source": [
    "# print output\n",
    "print('Hello world!')"
   ]
  },
  {
   "cell_type": "code",
   "execution_count": null,
   "metadata": {
    "collapsed": false
   },
   "outputs": [],
   "source": [
    "# assignment & math operations & variables\n",
    "# addition\n",
    "a = 1 + 1\n",
    "\n",
    "# multiplication\n",
    "b = 3*6\n",
    "\n",
    "# division\n",
    "c = 7/2\n",
    "\n",
    "# exponent\n",
    "d = 3**3\n",
    "\n",
    "# remainder\n",
    "e = 13%2\n",
    "\n",
    "print('a:', a)\n",
    "print('b:', b)\n",
    "print('c:', c)\n",
    "print('d:', d)\n",
    "print('e:', e)"
   ]
  },
  {
   "cell_type": "markdown",
   "metadata": {},
   "source": [
    "---\n",
    "String\n",
    "---"
   ]
  },
  {
   "cell_type": "code",
   "execution_count": null,
   "metadata": {
    "collapsed": false
   },
   "outputs": [],
   "source": [
    "# single & double quotes\n",
    "string1 = 'single quote'\n",
    "string2 = \"double quotes\"\n",
    "string3 = 'single quote \"double quotes\"'\n",
    "string4 = \"Double quote 'single quote'\"\n",
    "print('string1:', string1)\n",
    "print('string2:', string2)\n",
    "print('string3:', string3)\n",
    "print('string4:', string4)\n",
    "\n",
    "# add string\n",
    "string5 = string1 + ' plus ' + string2\n",
    "print('string5:', string5)\n",
    "\n",
    "# string index\n",
    "print('The first character of string1 is:', string1[0])\n",
    "print('The last character of string1 is:', string1[-1])\n",
    "\n",
    "# string split\n",
    "print(string5.split(sep=' '))\n",
    "\n",
    "# search\n",
    "print(string5.find('p'))"
   ]
  },
  {
   "cell_type": "markdown",
   "metadata": {},
   "source": [
    "---\n",
    "Loops, Conditions\n",
    "---"
   ]
  },
  {
   "cell_type": "markdown",
   "metadata": {},
   "source": [
    "#### The `while` loop"
   ]
  },
  {
   "cell_type": "code",
   "execution_count": null,
   "metadata": {
    "collapsed": false
   },
   "outputs": [],
   "source": [
    "a = 0\n",
    "while a < 10:\n",
    "    a += 1\n",
    "    print(a)"
   ]
  },
  {
   "cell_type": "markdown",
   "metadata": {},
   "source": [
    "#### The `for` loop"
   ]
  },
  {
   "cell_type": "code",
   "execution_count": null,
   "metadata": {
    "collapsed": false
   },
   "outputs": [],
   "source": [
    "for i in range(10):\n",
    "    print(i)"
   ]
  },
  {
   "cell_type": "code",
   "execution_count": null,
   "metadata": {
    "collapsed": false
   },
   "outputs": [],
   "source": [
    "for c in 'abcde':\n",
    "    print(c)"
   ]
  },
  {
   "cell_type": "code",
   "execution_count": null,
   "metadata": {
    "collapsed": false
   },
   "outputs": [],
   "source": [
    "for x in [1,6,7,9]:\n",
    "    print(x**2)"
   ]
  },
  {
   "cell_type": "markdown",
   "metadata": {},
   "source": [
    "#### `if else` statement"
   ]
  },
  {
   "cell_type": "code",
   "execution_count": null,
   "metadata": {
    "collapsed": true
   },
   "outputs": [],
   "source": [
    "n = 1\n",
    "while n <= 20:\n",
    "    n += 1\n",
    "    if n%2 == 0:\n",
    "        print(n, 'can be divided by 2.')\n",
    "    elif n%3 ==0:\n",
    "        print(n, 'can be divided by 3.')\n",
    "    else:\n",
    "        print(n)"
   ]
  },
  {
   "cell_type": "markdown",
   "metadata": {},
   "source": [
    "#### Caution: Indentation\n",
    "Each line in the first level starts with no spaces. It is the main program, and will always execute. Each line in the second level starts with **four spaces**."
   ]
  },
  {
   "cell_type": "markdown",
   "metadata": {},
   "source": [
    "---\n",
    "Functions\n",
    "---"
   ]
  },
  {
   "cell_type": "code",
   "execution_count": null,
   "metadata": {
    "collapsed": true
   },
   "outputs": [],
   "source": []
  }
 ],
 "metadata": {
  "kernelspec": {
   "display_name": "Python 3",
   "language": "python",
   "name": "python3"
  },
  "language_info": {
   "codemirror_mode": {
    "name": "ipython",
    "version": 3
   },
   "file_extension": ".py",
   "mimetype": "text/x-python",
   "name": "python",
   "nbconvert_exporter": "python",
   "pygments_lexer": "ipython3",
   "version": "3.5.1"
  }
 },
 "nbformat": 4,
 "nbformat_minor": 0
}
